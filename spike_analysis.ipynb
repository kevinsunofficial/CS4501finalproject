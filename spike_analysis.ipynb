{
 "cells": [
  {
   "cell_type": "code",
   "execution_count": 2,
   "id": "3e5d1f01",
   "metadata": {},
   "outputs": [],
   "source": [
    "import os\n",
    "import csv\n",
    "import pandas as pd\n",
    "\n",
    "from Bio import SeqIO\n",
    "from Bio import pairwise2\n",
    "from Bio.pairwise2 import format_alignment\n",
    "from Bio.SeqRecord import SeqRecord\n",
    "from tqdm import tqdm"
   ]
  },
  {
   "cell_type": "code",
   "execution_count": 3,
   "id": "1320767a",
   "metadata": {},
   "outputs": [
    {
     "name": "stdout",
     "output_type": "stream",
     "text": [
      "Wall time: 5.15 s\n"
     ]
    },
    {
     "data": {
      "text/plain": [
       "110626"
      ]
     },
     "execution_count": 3,
     "metadata": {},
     "output_type": "execute_result"
    }
   ],
   "source": [
    "%%time\n",
    "fastafn = 'sars_cov2_s_data/sars_cov2_s_genomic.fasta'\n",
    "sequences = {}\n",
    "for seq_record in SeqIO.parse(fastafn,'fasta'):\n",
    "    sequences[seq_record.id] = seq_record.seq\n",
    "len(sequences)"
   ]
  },
  {
   "cell_type": "code",
   "execution_count": 4,
   "id": "26b42272",
   "metadata": {},
   "outputs": [
    {
     "name": "stdout",
     "output_type": "stream",
     "text": [
      "Wall time: 158 ms\n"
     ]
    },
    {
     "data": {
      "text/html": [
       "<div>\n",
       "<style scoped>\n",
       "    .dataframe tbody tr th:only-of-type {\n",
       "        vertical-align: middle;\n",
       "    }\n",
       "\n",
       "    .dataframe tbody tr th {\n",
       "        vertical-align: top;\n",
       "    }\n",
       "\n",
       "    .dataframe thead th {\n",
       "        text-align: right;\n",
       "    }\n",
       "</style>\n",
       "<table border=\"1\" class=\"dataframe\">\n",
       "  <thead>\n",
       "    <tr style=\"text-align: right;\">\n",
       "      <th></th>\n",
       "      <th>Accession</th>\n",
       "      <th>ReleaseDate</th>\n",
       "      <th>PangoClass</th>\n",
       "      <th>Location</th>\n",
       "      <th>Length</th>\n",
       "      <th>Gene</th>\n",
       "      <th>Protein</th>\n",
       "      <th>Begin</th>\n",
       "      <th>End</th>\n",
       "      <th>CDS_Length</th>\n",
       "    </tr>\n",
       "  </thead>\n",
       "  <tbody>\n",
       "    <tr>\n",
       "      <th>0</th>\n",
       "      <td>NC_045512.2</td>\n",
       "      <td>2020-01-13</td>\n",
       "      <td>B</td>\n",
       "      <td>China</td>\n",
       "      <td>29903</td>\n",
       "      <td>S</td>\n",
       "      <td>surface glycoprotein</td>\n",
       "      <td>21563</td>\n",
       "      <td>25384</td>\n",
       "      <td>3822</td>\n",
       "    </tr>\n",
       "    <tr>\n",
       "      <th>1</th>\n",
       "      <td>MW422255.1</td>\n",
       "      <td>2020-12-30</td>\n",
       "      <td>B.1.1.7</td>\n",
       "      <td>USA: San Diego, California</td>\n",
       "      <td>29763</td>\n",
       "      <td>S</td>\n",
       "      <td>surface glycoprotein</td>\n",
       "      <td>21500</td>\n",
       "      <td>25312</td>\n",
       "      <td>3813</td>\n",
       "    </tr>\n",
       "    <tr>\n",
       "      <th>2</th>\n",
       "      <td>MW422256.1</td>\n",
       "      <td>2020-12-30</td>\n",
       "      <td>B.1.1.7</td>\n",
       "      <td>USA</td>\n",
       "      <td>29817</td>\n",
       "      <td>S</td>\n",
       "      <td>surface glycoprotein</td>\n",
       "      <td>21524</td>\n",
       "      <td>25336</td>\n",
       "      <td>3813</td>\n",
       "    </tr>\n",
       "    <tr>\n",
       "      <th>3</th>\n",
       "      <td>MW430966.1</td>\n",
       "      <td>2021-01-04</td>\n",
       "      <td>B.1.1.7</td>\n",
       "      <td>USA: California</td>\n",
       "      <td>29835</td>\n",
       "      <td>S</td>\n",
       "      <td>surface glycoprotein</td>\n",
       "      <td>21523</td>\n",
       "      <td>25335</td>\n",
       "      <td>3813</td>\n",
       "    </tr>\n",
       "    <tr>\n",
       "      <th>4</th>\n",
       "      <td>MW430974.1</td>\n",
       "      <td>2021-01-04</td>\n",
       "      <td>B.1.1.7</td>\n",
       "      <td>USA: Florida</td>\n",
       "      <td>29861</td>\n",
       "      <td>S</td>\n",
       "      <td>surface glycoprotein</td>\n",
       "      <td>21551</td>\n",
       "      <td>25363</td>\n",
       "      <td>3813</td>\n",
       "    </tr>\n",
       "  </tbody>\n",
       "</table>\n",
       "</div>"
      ],
      "text/plain": [
       "     Accession ReleaseDate PangoClass                    Location  Length  \\\n",
       "0  NC_045512.2  2020-01-13          B                       China   29903   \n",
       "1   MW422255.1  2020-12-30    B.1.1.7  USA: San Diego, California   29763   \n",
       "2   MW422256.1  2020-12-30    B.1.1.7                         USA   29817   \n",
       "3   MW430966.1  2021-01-04    B.1.1.7             USA: California   29835   \n",
       "4   MW430974.1  2021-01-04    B.1.1.7                USA: Florida   29861   \n",
       "\n",
       "  Gene               Protein  Begin    End  CDS_Length  \n",
       "0    S  surface glycoprotein  21563  25384        3822  \n",
       "1    S  surface glycoprotein  21500  25312        3813  \n",
       "2    S  surface glycoprotein  21524  25336        3813  \n",
       "3    S  surface glycoprotein  21523  25335        3813  \n",
       "4    S  surface glycoprotein  21551  25363        3813  "
      ]
     },
     "execution_count": 4,
     "metadata": {},
     "output_type": "execute_result"
    }
   ],
   "source": [
    "%%time\n",
    "csvfn = 'sars_cov2_s_data/sars_cov2_s_report.csv'\n",
    "df = pd.read_csv(csvfn)\n",
    "df.head()"
   ]
  },
  {
   "cell_type": "code",
   "execution_count": null,
   "id": "62b4e824",
   "metadata": {
    "scrolled": false
   },
   "outputs": [],
   "source": [
    "# each alignment will take approx. 1.5s\n",
    "# total time approx. 42h\n",
    "\n",
    "refseq = sequences['NC_045512.2']\n",
    "for seq_id in tqdm(df.Accession.tolist()):\n",
    "    seq2 = sequences[seq_id]\n",
    "    alignment = pairwise2.align.globalms(refseq,seq2,2,-1,-10,-0.5,one_alignment_only=True,penalize_end_gaps=False)\n",
    "    sequences[seq_id] = alignment[0].seqB"
   ]
  }
 ],
 "metadata": {
  "kernelspec": {
   "display_name": "Python 3 (ipykernel)",
   "language": "python",
   "name": "python3"
  },
  "language_info": {
   "codemirror_mode": {
    "name": "ipython",
    "version": 3
   },
   "file_extension": ".py",
   "mimetype": "text/x-python",
   "name": "python",
   "nbconvert_exporter": "python",
   "pygments_lexer": "ipython3",
   "version": "3.8.8"
  }
 },
 "nbformat": 4,
 "nbformat_minor": 5
}
