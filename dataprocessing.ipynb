{
 "cells": [
  {
   "cell_type": "code",
   "execution_count": 134,
   "id": "c48d374b",
   "metadata": {},
   "outputs": [],
   "source": [
    "import ncbi.datasets\n",
    "import json\n",
    "import jsonlines\n",
    "import os\n",
    "import csv\n",
    "import zipfile\n",
    "import pandas as pd\n",
    "from pyfaidx import Fasta\n",
    "from google.protobuf.json_format import ParseDict\n",
    "import ncbi.datasets.v1.reports.virus_pb2 as virus_report_pb2\n",
    "from collections import Counter\n",
    "from datetime import datetime, timezone, timedelta\n",
    "\n",
    "from Bio import SeqIO\n",
    "from Bio import pairwise2\n",
    "from Bio.pairwise2 import format_alignment\n",
    "from Bio.SeqRecord import SeqRecord\n",
    "from tqdm import tqdm"
   ]
  },
  {
   "cell_type": "code",
   "execution_count": 2,
   "id": "9810d218",
   "metadata": {},
   "outputs": [],
   "source": [
    "virus_api = ncbi.datasets.VirusApi(ncbi.datasets.ApiClient())"
   ]
  },
  {
   "cell_type": "code",
   "execution_count": 87,
   "id": "4bd66b4b",
   "metadata": {},
   "outputs": [
    {
     "name": "stdout",
     "output_type": "stream",
     "text": [
      "Download complete\n",
      "Archive:  sars_cov2_dataset.zip\n",
      " Length   Method    Size  Cmpr    Date    Time   CRC-32   Name\n",
      "--------  ------  ------- ---- ---------- ----- --------  ----\n",
      "    1604  Defl:N      769  52% 2022-04-13 16:59 3de26d82  README.md\n",
      "6879577429  Defl:N 581520080  92% 2022-04-13 16:59 be20b71e  ncbi_dataset/data/data_report.jsonl\n",
      "7211083224  Defl:N 2463556574  66% 2022-04-13 17:02 3f167833  ncbi_dataset/data/genomic.fna\n",
      "    2431  Defl:N     1057  57% 2022-04-13 17:09 7054c588  ncbi_dataset/data/virus_dataset.md\n",
      "     448  Defl:N      239  47% 2022-04-13 17:09 33223b7a  ncbi_dataset/data/dataset_catalog.json\n",
      "--------          -------  ---                            -------\n",
      "14090665136         3045078719  78%                            5 files\n",
      "Wall time: 10min 43s\n"
     ]
    }
   ],
   "source": [
    "%%time\n",
    "viral_genomes = virus_api.virus_genome_download(\n",
    "    \"SARS2\",\n",
    "    annotated_only=True,\n",
    "    complete_only=True,\n",
    "    host=\"human\",\n",
    "    geo_location='USA',\n",
    "    exclude_sequence=False,\n",
    "    _preload_content=False\n",
    ")\n",
    "\n",
    "zipfn = 'sars_cov2_dataset.zip'\n",
    "with open(zipfn, 'wb') as f:\n",
    "    f.write(viral_genomes.data)\n",
    "\n",
    "print(f'Download complete')\n",
    "!unzip -v {zipfn}"
   ]
  },
  {
   "cell_type": "code",
   "execution_count": 120,
   "id": "a52a8d82",
   "metadata": {},
   "outputs": [
    {
     "name": "stdout",
     "output_type": "stream",
     "text": [
      "Wall time: 764 ms\n"
     ]
    }
   ],
   "source": [
    "%%time\n",
    "viral_genomes_ref = virus_api.virus_genome_download(\n",
    "    \"SARS2\",\n",
    "    annotated_only=True,\n",
    "    complete_only=True,\n",
    "    refseq_only=True,\n",
    "    host=\"human\",\n",
    "    exclude_sequence=False,\n",
    "    _preload_content=False\n",
    ")\n",
    "\n",
    "zipfn_ref = 'sars_cov2_refseq.zip'\n",
    "with open(zipfn_ref, 'wb') as f:\n",
    "    f.write(viral_genomes_ref.data)"
   ]
  },
  {
   "cell_type": "code",
   "execution_count": 115,
   "id": "e79cbce2",
   "metadata": {},
   "outputs": [
    {
     "name": "stderr",
     "output_type": "stream",
     "text": [
      "237445it [03:13, 1227.73it/s]"
     ]
    },
    {
     "name": "stdout",
     "output_type": "stream",
     "text": [
      "Wall time: 3min 13s\n"
     ]
    },
    {
     "name": "stderr",
     "output_type": "stream",
     "text": [
      "\n"
     ]
    }
   ],
   "source": [
    "%%time\n",
    "def get_data_reports(zip_file):\n",
    "    with zipfile.ZipFile(zip_file, 'r') as zip_download:\n",
    "        with zip_download.open('ncbi_dataset/data/data_report.jsonl') as report_file_handle:\n",
    "            with jsonlines.Reader(report_file_handle) as json_reader:\n",
    "                for g in json_reader:\n",
    "                    yield g\n",
    "\n",
    "alpha_variant = ['B.1.1.7']\n",
    "beta_variant = ['B.1.351']\n",
    "gamma_variant = ['B.1.1.28.1','P.1']\n",
    "delta_variant = ['B.1.617.2','XD','XF','XS']\n",
    "lambda_variant = ['B.1.1.1.37','C.37']\n",
    "omicron_variant = ['B.1.1.529','B.1.1.529.1','BA.1','B.1.1.529.2','BA.2',\n",
    "                   'B.1.1.529.3','BA.3','B.1.1.529.4','BA.4','B.1.1.529.5','BA.5']\n",
    "all_variant = alpha_variant+beta_variant+gamma_variant+delta_variant+lambda_variant+omicron_variant\n",
    "                    \n",
    "genome_data = []\n",
    "for g in tqdm(get_data_reports(zipfn)):\n",
    "    annot = g['annotation']\n",
    "    for gene in annot.get('genes', []):\n",
    "        for c in gene.get('cds', []):\n",
    "            cds_len = 0\n",
    "            begins, ends = [], []\n",
    "            for r in c['nucleotide']['range']:\n",
    "                begin, end = int(r['begin']), int(r['end'])\n",
    "                cds_len += end-begin+1\n",
    "                begins.append(begin)\n",
    "                ends.append(end)\n",
    "            genome_data.append({\n",
    "                'Accession': g['accession'],\n",
    "                'ReleaseDate': g['releaseDate'],\n",
    "                'PangoClass': g['virus']['pangolinClassification'],\n",
    "                'Location': g.get('location', {}).get('geographicLocation'),\n",
    "                'Length': g.get('length', 0),\n",
    "                'Gene': gene['name'],\n",
    "                'Protein': c['name'],\n",
    "                'Begin': min(begins),\n",
    "                'End': max(ends),\n",
    "                'CDS_Length': cds_len,\n",
    "            })"
   ]
  },
  {
   "cell_type": "code",
   "execution_count": 117,
   "id": "70cc169e",
   "metadata": {},
   "outputs": [
    {
     "data": {
      "text/html": [
       "<div>\n",
       "<style scoped>\n",
       "    .dataframe tbody tr th:only-of-type {\n",
       "        vertical-align: middle;\n",
       "    }\n",
       "\n",
       "    .dataframe tbody tr th {\n",
       "        vertical-align: top;\n",
       "    }\n",
       "\n",
       "    .dataframe thead th {\n",
       "        text-align: right;\n",
       "    }\n",
       "</style>\n",
       "<table border=\"1\" class=\"dataframe\">\n",
       "  <thead>\n",
       "    <tr style=\"text-align: right;\">\n",
       "      <th></th>\n",
       "      <th>Accession</th>\n",
       "      <th>ReleaseDate</th>\n",
       "      <th>PangoClass</th>\n",
       "      <th>Location</th>\n",
       "      <th>Length</th>\n",
       "      <th>Gene</th>\n",
       "      <th>Protein</th>\n",
       "      <th>Begin</th>\n",
       "      <th>End</th>\n",
       "      <th>CDS_Length</th>\n",
       "    </tr>\n",
       "  </thead>\n",
       "  <tbody>\n",
       "    <tr>\n",
       "      <th>216287</th>\n",
       "      <td>MW422255.1</td>\n",
       "      <td>2020-12-30</td>\n",
       "      <td>B.1.1.7</td>\n",
       "      <td>USA: San Diego, California</td>\n",
       "      <td>29763</td>\n",
       "      <td>S</td>\n",
       "      <td>surface glycoprotein</td>\n",
       "      <td>21500</td>\n",
       "      <td>25312</td>\n",
       "      <td>3813</td>\n",
       "    </tr>\n",
       "    <tr>\n",
       "      <th>216299</th>\n",
       "      <td>MW422256.1</td>\n",
       "      <td>2020-12-30</td>\n",
       "      <td>B.1.1.7</td>\n",
       "      <td>USA</td>\n",
       "      <td>29817</td>\n",
       "      <td>S</td>\n",
       "      <td>surface glycoprotein</td>\n",
       "      <td>21524</td>\n",
       "      <td>25336</td>\n",
       "      <td>3813</td>\n",
       "    </tr>\n",
       "    <tr>\n",
       "      <th>217511</th>\n",
       "      <td>MW430966.1</td>\n",
       "      <td>2021-01-04</td>\n",
       "      <td>B.1.1.7</td>\n",
       "      <td>USA: California</td>\n",
       "      <td>29835</td>\n",
       "      <td>S</td>\n",
       "      <td>surface glycoprotein</td>\n",
       "      <td>21523</td>\n",
       "      <td>25335</td>\n",
       "      <td>3813</td>\n",
       "    </tr>\n",
       "    <tr>\n",
       "      <th>217571</th>\n",
       "      <td>MW430974.1</td>\n",
       "      <td>2021-01-04</td>\n",
       "      <td>B.1.1.7</td>\n",
       "      <td>USA: Florida</td>\n",
       "      <td>29861</td>\n",
       "      <td>S</td>\n",
       "      <td>surface glycoprotein</td>\n",
       "      <td>21551</td>\n",
       "      <td>25363</td>\n",
       "      <td>3813</td>\n",
       "    </tr>\n",
       "    <tr>\n",
       "      <th>218027</th>\n",
       "      <td>MW440433.1</td>\n",
       "      <td>2021-01-05</td>\n",
       "      <td>B.1.1.7</td>\n",
       "      <td>USA: New York, Saratoga County</td>\n",
       "      <td>29792</td>\n",
       "      <td>S</td>\n",
       "      <td>surface glycoprotein</td>\n",
       "      <td>21514</td>\n",
       "      <td>25326</td>\n",
       "      <td>3813</td>\n",
       "    </tr>\n",
       "  </tbody>\n",
       "</table>\n",
       "</div>"
      ],
      "text/plain": [
       "         Accession ReleaseDate PangoClass                        Location  \\\n",
       "216287  MW422255.1  2020-12-30    B.1.1.7      USA: San Diego, California   \n",
       "216299  MW422256.1  2020-12-30    B.1.1.7                             USA   \n",
       "217511  MW430966.1  2021-01-04    B.1.1.7                 USA: California   \n",
       "217571  MW430974.1  2021-01-04    B.1.1.7                    USA: Florida   \n",
       "218027  MW440433.1  2021-01-05    B.1.1.7  USA: New York, Saratoga County   \n",
       "\n",
       "        Length Gene               Protein  Begin    End  CDS_Length  \n",
       "216287   29763    S  surface glycoprotein  21500  25312        3813  \n",
       "216299   29817    S  surface glycoprotein  21524  25336        3813  \n",
       "217511   29835    S  surface glycoprotein  21523  25335        3813  \n",
       "217571   29861    S  surface glycoprotein  21551  25363        3813  \n",
       "218027   29792    S  surface glycoprotein  21514  25326        3813  "
      ]
     },
     "execution_count": 117,
     "metadata": {},
     "output_type": "execute_result"
    }
   ],
   "source": [
    "df1 = pd.DataFrame(genome_data)\n",
    "df1 = df1[(df1.Length>=29000)&(df1.PangoClass.isin(all_variant))&(df1.Gene=='S')]\n",
    "df1.head()"
   ]
  },
  {
   "cell_type": "code",
   "execution_count": 118,
   "id": "4ac69fc3",
   "metadata": {},
   "outputs": [
    {
     "data": {
      "text/plain": [
       "(110625, 10)"
      ]
     },
     "execution_count": 118,
     "metadata": {},
     "output_type": "execute_result"
    }
   ],
   "source": [
    "df1.shape"
   ]
  },
  {
   "cell_type": "code",
   "execution_count": 121,
   "id": "1528933c",
   "metadata": {},
   "outputs": [
    {
     "name": "stderr",
     "output_type": "stream",
     "text": [
      "1it [00:00, 249.87it/s]\n"
     ]
    }
   ],
   "source": [
    "ref_data = []\n",
    "for g in tqdm(get_data_reports(zipfn_ref)):\n",
    "    annot = g['annotation']\n",
    "    for gene in annot.get('genes', []):\n",
    "        for c in gene.get('cds', []):\n",
    "            cds_len = 0\n",
    "            begins, ends = [], []\n",
    "            for r in c['nucleotide']['range']:\n",
    "                begin, end = int(r['begin']), int(r['end'])\n",
    "                cds_len += end-begin+1\n",
    "                begins.append(begin)\n",
    "                ends.append(end)\n",
    "            ref_data.append({\n",
    "                'Accession': g['accession'],\n",
    "                'ReleaseDate': g['releaseDate'],\n",
    "                'PangoClass': g['virus']['pangolinClassification'],\n",
    "                'Location': g.get('location', {}).get('geographicLocation'),\n",
    "                'Length': g.get('length', 0),\n",
    "                'Gene': gene['name'],\n",
    "                'Protein': c['name'],\n",
    "                'Begin': min(begins),\n",
    "                'End': max(ends),\n",
    "                'CDS_Length': cds_len,\n",
    "            })"
   ]
  },
  {
   "cell_type": "code",
   "execution_count": 124,
   "id": "f6a0459b",
   "metadata": {},
   "outputs": [
    {
     "data": {
      "text/html": [
       "<div>\n",
       "<style scoped>\n",
       "    .dataframe tbody tr th:only-of-type {\n",
       "        vertical-align: middle;\n",
       "    }\n",
       "\n",
       "    .dataframe tbody tr th {\n",
       "        vertical-align: top;\n",
       "    }\n",
       "\n",
       "    .dataframe thead th {\n",
       "        text-align: right;\n",
       "    }\n",
       "</style>\n",
       "<table border=\"1\" class=\"dataframe\">\n",
       "  <thead>\n",
       "    <tr style=\"text-align: right;\">\n",
       "      <th></th>\n",
       "      <th>Accession</th>\n",
       "      <th>ReleaseDate</th>\n",
       "      <th>PangoClass</th>\n",
       "      <th>Location</th>\n",
       "      <th>Length</th>\n",
       "      <th>Gene</th>\n",
       "      <th>Protein</th>\n",
       "      <th>Begin</th>\n",
       "      <th>End</th>\n",
       "      <th>CDS_Length</th>\n",
       "    </tr>\n",
       "  </thead>\n",
       "  <tbody>\n",
       "    <tr>\n",
       "      <th>2</th>\n",
       "      <td>NC_045512.2</td>\n",
       "      <td>2020-01-13</td>\n",
       "      <td>B</td>\n",
       "      <td>China</td>\n",
       "      <td>29903</td>\n",
       "      <td>S</td>\n",
       "      <td>surface glycoprotein</td>\n",
       "      <td>21563</td>\n",
       "      <td>25384</td>\n",
       "      <td>3822</td>\n",
       "    </tr>\n",
       "  </tbody>\n",
       "</table>\n",
       "</div>"
      ],
      "text/plain": [
       "     Accession ReleaseDate PangoClass Location  Length Gene  \\\n",
       "2  NC_045512.2  2020-01-13          B    China   29903    S   \n",
       "\n",
       "                Protein  Begin    End  CDS_Length  \n",
       "2  surface glycoprotein  21563  25384        3822  "
      ]
     },
     "execution_count": 124,
     "metadata": {},
     "output_type": "execute_result"
    }
   ],
   "source": [
    "df2 = pd.DataFrame(ref_data)\n",
    "df2 = df2[df2.Gene=='S']\n",
    "df2"
   ]
  },
  {
   "cell_type": "code",
   "execution_count": 127,
   "id": "c055b2a2",
   "metadata": {},
   "outputs": [
    {
     "name": "stdout",
     "output_type": "stream",
     "text": [
      "Wall time: 1min 42s\n"
     ]
    },
    {
     "data": {
      "text/plain": [
       "237445"
      ]
     },
     "execution_count": 127,
     "metadata": {},
     "output_type": "execute_result"
    }
   ],
   "source": [
    "%%time\n",
    "def get_sequences(fastafn):\n",
    "    sequences = {}\n",
    "    for seq_record in SeqIO.parse(fastafn,'fasta'):\n",
    "        sequences[seq_record.id] = seq_record.seq\n",
    "    return sequences\n",
    "\n",
    "sequences = get_sequences('ncbi_dataset/data/genomic.fna')\n",
    "refseq = get_sequences('sars_cov2_refseq/ncbi_dataset/data/genomic.fna')\n",
    "len(sequences)"
   ]
  },
  {
   "cell_type": "code",
   "execution_count": 130,
   "id": "406f499d",
   "metadata": {},
   "outputs": [
    {
     "data": {
      "text/plain": [
       "3822"
      ]
     },
     "execution_count": 130,
     "metadata": {},
     "output_type": "execute_result"
    }
   ],
   "source": [
    "refseq_s_begin, refseq_s_end = df2.Begin.item(), df2.End.item()\n",
    "refseq_id = df2.Accession.item()\n",
    "refseq_s = refseq[refseq_id][refseq_s_begin:refseq_s_end+1]\n",
    "len(refseq_s)"
   ]
  },
  {
   "cell_type": "code",
   "execution_count": 136,
   "id": "46b1e71f",
   "metadata": {},
   "outputs": [
    {
     "name": "stderr",
     "output_type": "stream",
     "text": [
      "100%|████████████████████████████████████████████████████████████████████████████████████████████████████████| 110625/110625 [39:35<00:00, 46.56it/s]\n"
     ]
    }
   ],
   "source": [
    "s_sequences = [\n",
    "    SeqRecord(\n",
    "        refseq_s,\n",
    "        id=refseq_id,\n",
    "        name='S',\n",
    "        description='surface glycoprotein, refseq'\n",
    "    )\n",
    "]\n",
    "for seq_id in tqdm(df1.Accession.tolist()):\n",
    "    data = df1[df1.Accession==seq_id]\n",
    "    s_sequences.append(\n",
    "        SeqRecord(\n",
    "            sequences[seq_id][data.Begin.item():data.End.item()+1],\n",
    "            id=seq_id,\n",
    "            name='S',\n",
    "            description='surface glycoprotein'\n",
    "        )\n",
    "    )"
   ]
  },
  {
   "cell_type": "code",
   "execution_count": 137,
   "id": "6fef6842",
   "metadata": {},
   "outputs": [
    {
     "data": {
      "text/plain": [
       "110626"
      ]
     },
     "execution_count": 137,
     "metadata": {},
     "output_type": "execute_result"
    }
   ],
   "source": [
    "SeqIO.write(s_sequences, 'sars_cov2_s_genomic.fasta', 'fasta')"
   ]
  },
  {
   "cell_type": "code",
   "execution_count": 138,
   "id": "d5a18d93",
   "metadata": {},
   "outputs": [
    {
     "data": {
      "text/html": [
       "<div>\n",
       "<style scoped>\n",
       "    .dataframe tbody tr th:only-of-type {\n",
       "        vertical-align: middle;\n",
       "    }\n",
       "\n",
       "    .dataframe tbody tr th {\n",
       "        vertical-align: top;\n",
       "    }\n",
       "\n",
       "    .dataframe thead th {\n",
       "        text-align: right;\n",
       "    }\n",
       "</style>\n",
       "<table border=\"1\" class=\"dataframe\">\n",
       "  <thead>\n",
       "    <tr style=\"text-align: right;\">\n",
       "      <th></th>\n",
       "      <th>Accession</th>\n",
       "      <th>ReleaseDate</th>\n",
       "      <th>PangoClass</th>\n",
       "      <th>Location</th>\n",
       "      <th>Length</th>\n",
       "      <th>Gene</th>\n",
       "      <th>Protein</th>\n",
       "      <th>Begin</th>\n",
       "      <th>End</th>\n",
       "      <th>CDS_Length</th>\n",
       "    </tr>\n",
       "  </thead>\n",
       "  <tbody>\n",
       "    <tr>\n",
       "      <th>0</th>\n",
       "      <td>NC_045512.2</td>\n",
       "      <td>2020-01-13</td>\n",
       "      <td>B</td>\n",
       "      <td>China</td>\n",
       "      <td>29903</td>\n",
       "      <td>S</td>\n",
       "      <td>surface glycoprotein</td>\n",
       "      <td>21563</td>\n",
       "      <td>25384</td>\n",
       "      <td>3822</td>\n",
       "    </tr>\n",
       "    <tr>\n",
       "      <th>1</th>\n",
       "      <td>MW422255.1</td>\n",
       "      <td>2020-12-30</td>\n",
       "      <td>B.1.1.7</td>\n",
       "      <td>USA: San Diego, California</td>\n",
       "      <td>29763</td>\n",
       "      <td>S</td>\n",
       "      <td>surface glycoprotein</td>\n",
       "      <td>21500</td>\n",
       "      <td>25312</td>\n",
       "      <td>3813</td>\n",
       "    </tr>\n",
       "    <tr>\n",
       "      <th>2</th>\n",
       "      <td>MW422256.1</td>\n",
       "      <td>2020-12-30</td>\n",
       "      <td>B.1.1.7</td>\n",
       "      <td>USA</td>\n",
       "      <td>29817</td>\n",
       "      <td>S</td>\n",
       "      <td>surface glycoprotein</td>\n",
       "      <td>21524</td>\n",
       "      <td>25336</td>\n",
       "      <td>3813</td>\n",
       "    </tr>\n",
       "    <tr>\n",
       "      <th>3</th>\n",
       "      <td>MW430966.1</td>\n",
       "      <td>2021-01-04</td>\n",
       "      <td>B.1.1.7</td>\n",
       "      <td>USA: California</td>\n",
       "      <td>29835</td>\n",
       "      <td>S</td>\n",
       "      <td>surface glycoprotein</td>\n",
       "      <td>21523</td>\n",
       "      <td>25335</td>\n",
       "      <td>3813</td>\n",
       "    </tr>\n",
       "    <tr>\n",
       "      <th>4</th>\n",
       "      <td>MW430974.1</td>\n",
       "      <td>2021-01-04</td>\n",
       "      <td>B.1.1.7</td>\n",
       "      <td>USA: Florida</td>\n",
       "      <td>29861</td>\n",
       "      <td>S</td>\n",
       "      <td>surface glycoprotein</td>\n",
       "      <td>21551</td>\n",
       "      <td>25363</td>\n",
       "      <td>3813</td>\n",
       "    </tr>\n",
       "  </tbody>\n",
       "</table>\n",
       "</div>"
      ],
      "text/plain": [
       "     Accession ReleaseDate PangoClass                    Location  Length  \\\n",
       "0  NC_045512.2  2020-01-13          B                       China   29903   \n",
       "1   MW422255.1  2020-12-30    B.1.1.7  USA: San Diego, California   29763   \n",
       "2   MW422256.1  2020-12-30    B.1.1.7                         USA   29817   \n",
       "3   MW430966.1  2021-01-04    B.1.1.7             USA: California   29835   \n",
       "4   MW430974.1  2021-01-04    B.1.1.7                USA: Florida   29861   \n",
       "\n",
       "  Gene               Protein  Begin    End  CDS_Length  \n",
       "0    S  surface glycoprotein  21563  25384        3822  \n",
       "1    S  surface glycoprotein  21500  25312        3813  \n",
       "2    S  surface glycoprotein  21524  25336        3813  \n",
       "3    S  surface glycoprotein  21523  25335        3813  \n",
       "4    S  surface glycoprotein  21551  25363        3813  "
      ]
     },
     "execution_count": 138,
     "metadata": {},
     "output_type": "execute_result"
    }
   ],
   "source": [
    "df_s = pd.concat([df2, df1], ignore_index=True)\n",
    "df_s.head()"
   ]
  },
  {
   "cell_type": "code",
   "execution_count": 139,
   "id": "d3935b08",
   "metadata": {},
   "outputs": [],
   "source": [
    "df_s.to_csv('sars_cov2_s_report.csv',index=False)"
   ]
  }
 ],
 "metadata": {
  "kernelspec": {
   "display_name": "Python 3 (ipykernel)",
   "language": "python",
   "name": "python3"
  },
  "language_info": {
   "codemirror_mode": {
    "name": "ipython",
    "version": 3
   },
   "file_extension": ".py",
   "mimetype": "text/x-python",
   "name": "python",
   "nbconvert_exporter": "python",
   "pygments_lexer": "ipython3",
   "version": "3.8.8"
  }
 },
 "nbformat": 4,
 "nbformat_minor": 5
}
