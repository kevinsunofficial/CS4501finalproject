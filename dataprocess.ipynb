{
 "cells": [
  {
   "cell_type": "code",
   "execution_count": 1,
   "metadata": {},
   "outputs": [],
   "source": [
    "import os\n",
    "import os.path as osp\n",
    "import numpy as np\n",
    "import pandas as pd\n",
    "from tqdm import tqdm\n",
    "from datetime import datetime\n",
    "import json\n",
    "import copy\n",
    "\n",
    "import Bio\n",
    "from Bio import SeqIO\n",
    "from Bio import AlignIO\n",
    "from Bio import pairwise2\n",
    "from Bio.pairwise2 import format_alignment\n",
    "from Bio.Align import substitution_matrices\n",
    "\n",
    "import matplotlib.pyplot as plt"
   ]
  },
  {
   "cell_type": "code",
   "execution_count": 15,
   "metadata": {},
   "outputs": [],
   "source": [
    "def load_lib(jsonlf):\n",
    "    data = {\n",
    "        'accession': [],\n",
    "        'length': [],\n",
    "        'location': [],\n",
    "        'releaseDate': [],\n",
    "    }\n",
    "    for line in tqdm(jsonlf, position=0, leave=True, desc='reading lib file'):\n",
    "        info = json.loads(line)\n",
    "        if info['completeness']=='COMPLETE' and info['length']>27000:\n",
    "            try:\n",
    "                data['location'].append(info['location']['geographicLocation'])\n",
    "            except:\n",
    "                data['location'].append('Unknown')\n",
    "            data['accession'].append(info['accession'])\n",
    "            data['length'].append(info['length'])\n",
    "            data['releaseDate'].append(info['releaseDate'])\n",
    "    libdf = pd.DataFrame(data=data)\n",
    "    libdf = libdf.sort_values(by=['releaseDate']).dropna()\n",
    "    libdf = libdf.sort_values(by=['length'],ascending=False).dropna()\n",
    "    \n",
    "    return libdf\n",
    "\n",
    "\n",
    "def load_seq(fastapath, mode):\n",
    "    sequences = {}\n",
    "    for seq_record in tqdm(SeqIO.parse(fastapath,mode), position=0, leave=True, desc='reading fasta file'):\n",
    "        sequences[seq_record.id] = seq_record.seq.replace('N','')\n",
    "    \n",
    "    return sequences"
   ]
  },
  {
   "cell_type": "code",
   "execution_count": 3,
   "metadata": {},
   "outputs": [],
   "source": [
    "genomic_path = './../ncbi_dataset/data/genomic.fna'\n",
    "report_path = './../ncbi_dataset/data/data_report.jsonl'"
   ]
  },
  {
   "cell_type": "code",
   "execution_count": 12,
   "metadata": {},
   "outputs": [
    {
     "name": "stderr",
     "output_type": "stream",
     "text": [
      "reading lib file: 100%|██████████| 4542920/4542920 [08:47<00:00, 8613.62it/s]\n"
     ]
    },
    {
     "name": "stdout",
     "output_type": "stream",
     "text": [
      "CPU times: user 8min 57s, sys: 1min 35s, total: 10min 33s\n",
      "Wall time: 15min 7s\n"
     ]
    }
   ],
   "source": [
    "%%time\n",
    "jsonlf = open(report_path,'r').readlines()\n",
    "lib = load_lib(jsonlf)\n",
    "acclist = lib.accession.tolist()"
   ]
  },
  {
   "cell_type": "code",
   "execution_count": 16,
   "metadata": {},
   "outputs": [
    {
     "name": "stderr",
     "output_type": "stream",
     "text": [
      "reading fasta file: 4542920it [22:01, 3437.22it/s]"
     ]
    },
    {
     "name": "stdout",
     "output_type": "stream",
     "text": [
      "CPU times: user 10min 36s, sys: 2min 41s, total: 13min 17s\n",
      "Wall time: 22min 1s\n"
     ]
    },
    {
     "name": "stderr",
     "output_type": "stream",
     "text": [
      "\n"
     ]
    }
   ],
   "source": [
    "%%time\n",
    "sequences = load_seq(genomic_path, 'fasta')"
   ]
  },
  {
   "cell_type": "code",
   "execution_count": 17,
   "metadata": {},
   "outputs": [
    {
     "name": "stdout",
     "output_type": "stream",
     "text": [
      "(1001653, 4)\n",
      "4542920\n"
     ]
    }
   ],
   "source": [
    "print(lib.shape)\n",
    "print(len(list(sequences.keys())))"
   ]
  },
  {
   "cell_type": "code",
   "execution_count": 18,
   "metadata": {},
   "outputs": [],
   "source": [
    "def write_lib_processed(proclib_path, lib):\n",
    "    lib.to_csv(proclib_path, index=False)\n",
    "\n",
    "    \n",
    "def write_seq_processed(procseq_path, acclist, sequences):\n",
    "    with open(procseq_path, 'w') as f:\n",
    "        for accid in tqdm(acclist, position=0, leave=True, desc='writing seqs to file'):\n",
    "            content = '>'+accid+'\\n'+str(sequences[accid])+'\\n'\n",
    "            f.write(content)"
   ]
  },
  {
   "cell_type": "code",
   "execution_count": 19,
   "metadata": {},
   "outputs": [],
   "source": [
    "procseq_path = './processed_dataset/processed_seq.fasta'\n",
    "proclib_path = './processed_dataset/processed_lib.csv'"
   ]
  },
  {
   "cell_type": "code",
   "execution_count": 20,
   "metadata": {},
   "outputs": [
    {
     "name": "stdout",
     "output_type": "stream",
     "text": [
      "CPU times: user 2.37 s, sys: 103 ms, total: 2.48 s\n",
      "Wall time: 2.92 s\n"
     ]
    }
   ],
   "source": [
    "%%time\n",
    "write_lib_processed(proclib_path, lib)"
   ]
  },
  {
   "cell_type": "code",
   "execution_count": 22,
   "metadata": {},
   "outputs": [
    {
     "name": "stderr",
     "output_type": "stream",
     "text": [
      "writing seqs to file: 100%|██████████| 1001653/1001653 [00:45<00:00, 22037.11it/s]"
     ]
    },
    {
     "name": "stdout",
     "output_type": "stream",
     "text": [
      "CPU times: user 12.8 s, sys: 31.2 s, total: 44.1 s\n",
      "Wall time: 45.5 s\n"
     ]
    },
    {
     "name": "stderr",
     "output_type": "stream",
     "text": [
      "\n"
     ]
    }
   ],
   "source": [
    "%%time\n",
    "write_seq_processed(procseq_path, acclist, sequences)"
   ]
  }
 ],
 "metadata": {
  "kernelspec": {
   "display_name": "Python 3.8",
   "language": "python",
   "name": "python-3.8"
  },
  "language_info": {
   "codemirror_mode": {
    "name": "ipython",
    "version": 3
   },
   "file_extension": ".py",
   "mimetype": "text/x-python",
   "name": "python",
   "nbconvert_exporter": "python",
   "pygments_lexer": "ipython3",
   "version": "3.8.8"
  }
 },
 "nbformat": 4,
 "nbformat_minor": 4
}
