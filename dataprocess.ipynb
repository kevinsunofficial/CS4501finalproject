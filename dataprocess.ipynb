{
 "cells": [
  {
   "cell_type": "code",
   "execution_count": 1,
   "metadata": {},
   "outputs": [],
   "source": [
    "import os\n",
    "import os.path as osp\n",
    "import numpy as np\n",
    "import pandas as pd\n",
    "from tqdm import tqdm\n",
    "import json\n",
    "\n",
    "import Bio\n",
    "from Bio import SeqIO\n",
    "from Bio import AlignIO\n",
    "from Bio import pairwise2\n",
    "from Bio.pairwise2 import format_alignment"
   ]
  },
  {
   "cell_type": "code",
   "execution_count": 2,
   "metadata": {},
   "outputs": [],
   "source": [
    "def load_lib(jsonlf):\n",
    "    data = {\n",
    "        'accession': [],\n",
    "        'length': [],\n",
    "        'location': [],\n",
    "        'releaseDate': [],\n",
    "        'pstart': [],\n",
    "        'pend': [],\n",
    "        'variant': [],\n",
    "    }\n",
    "    for line in tqdm(jsonlf, position=0, leave=True, desc='reading lib file'):\n",
    "        info = json.loads(line)\n",
    "        if (info['completeness']=='COMPLETE') and ('location' in info.keys()) and ('annotation' in info.keys()) and ('virus' in info.keys()):\n",
    "            try:\n",
    "                loc = info['location']['geographicLocation']\n",
    "                var = info['virus']['pangolinClassification']\n",
    "                if loc.find('USA') != -1:\n",
    "                    annlist = info['annotation']['genes']\n",
    "                    for p in annlist:\n",
    "                        if p['name']=='S':\n",
    "                            prange = p['cds'][0]['nucleotide']['range'][0]\n",
    "                            data['pstart'].append(int(prange['begin']))\n",
    "                            data['pend'].append(int(prange['end']))\n",
    "                            data['location'].append(loc)\n",
    "                            data['accession'].append(info['accession'])\n",
    "                            data['length'].append(info['length'])\n",
    "                            data['releaseDate'].append(info['releaseDate'])\n",
    "                            data['variant'].append(var)\n",
    "                            break\n",
    "            except:\n",
    "                continue\n",
    "    libdf = pd.DataFrame(data=data)\n",
    "    libdf['plen'] = libdf['pend']-libdf['pstart']\n",
    "    libdf = libdf.sort_values(by=['releaseDate']).dropna()\n",
    "    \n",
    "    return libdf\n",
    "\n",
    "\n",
    "def load_seq(fastapath, mode):\n",
    "    sequences = {}\n",
    "    for seq_record in tqdm(SeqIO.parse(fastapath,mode), position=0, leave=True, desc='reading fasta file'):\n",
    "        sequences[seq_record.id] = seq_record.seq.replace('N','')\n",
    "    \n",
    "    return sequences"
   ]
  },
  {
   "cell_type": "code",
   "execution_count": 3,
   "metadata": {},
   "outputs": [],
   "source": [
    "all_genomic_path = './../ncbi_dataset/data/genomic.fna'\n",
    "complete_genomic_path = './../ncbi_dataset/data/complete_genome.fasta'\n",
    "protein_path = './../ncbi_dataset/data/protein.faa'\n",
    "libpath = './../ncbi_dataset/data/data_report.jsonl'"
   ]
  },
  {
   "cell_type": "code",
   "execution_count": 4,
   "metadata": {},
   "outputs": [
    {
     "name": "stderr",
     "output_type": "stream",
     "text": [
      "reading lib file: 100%|██████████| 4542920/4542920 [08:16<00:00, 9147.72it/s] \n"
     ]
    },
    {
     "name": "stdout",
     "output_type": "stream",
     "text": [
      "CPU times: user 8min 37s, sys: 1min 7s, total: 9min 45s\n",
      "Wall time: 14min 35s\n"
     ]
    }
   ],
   "source": [
    "%%time\n",
    "jsonlf = open(libpath,'r').readlines()"
   ]
  },
  {
   "cell_type": "code",
   "execution_count": null,
   "metadata": {},
   "outputs": [],
   "source": [
    "%%time\n",
    "lib = load_lib(jsonlf)"
   ]
  },
  {
   "cell_type": "code",
   "execution_count": 6,
   "metadata": {},
   "outputs": [
    {
     "name": "stderr",
     "output_type": "stream",
     "text": [
      "reading fasta file: 4542920it [22:43, 3330.63it/s]"
     ]
    },
    {
     "name": "stdout",
     "output_type": "stream",
     "text": [
      "CPU times: user 10min 38s, sys: 3min 7s, total: 13min 46s\n",
      "Wall time: 22min 47s\n"
     ]
    },
    {
     "name": "stderr",
     "output_type": "stream",
     "text": [
      "\n"
     ]
    }
   ],
   "source": [
    "%%time\n",
    "sequences = load_seq(genomic_path, 'fasta')"
   ]
  },
  {
   "cell_type": "code",
   "execution_count": null,
   "metadata": {},
   "outputs": [],
   "source": [
    "print(lib.shape)"
   ]
  },
  {
   "cell_type": "code",
   "execution_count": null,
   "metadata": {},
   "outputs": [],
   "source": [
    "allvar = lib.variant.unique().tolist()\n",
    "alpha = lib[lib.variant=='B.1.1.7']\n",
    "print('alpha', alpha.shape)\n",
    "beta = lib[lib.variant=='B.1.351']\n",
    "print('beta', beta.shape)\n",
    "gamma = lib[lib.variant=='P.1']\n",
    "print('gamma', gamma.shape)\n",
    "delta = lib[lib.variant.isin(['B.1.617.2','XD', 'XF', 'XS'])]\n",
    "print('delta', delta.shape)\n",
    "omicron = lib[lib.variant.isin(['B.1.1.529','BA.1','BA.2','BA.3','BA.4','BA.5'])]\n",
    "print('omicron', omicron.shape)"
   ]
  },
  {
   "cell_type": "code",
   "execution_count": null,
   "metadata": {},
   "outputs": [],
   "source": [
    "data1 = beta.head(1)\n",
    "data2 = beta.tail(1)\n",
    "seq1 = str(sequences[data1.accession.item()])[data1.pstart.item():data1.pend.item()]\n",
    "seq2 = str(sequences[data2.accession.item()])[data2.pstart.item():data2.pend.item()]"
   ]
  },
  {
   "cell_type": "code",
   "execution_count": null,
   "metadata": {},
   "outputs": [],
   "source": [
    "%%time\n",
    "alignment = pairwise2.align.globalms(seq1, seq2, 2, -1, -10, -0.5, one_alignment_only=True)"
   ]
  },
  {
   "cell_type": "code",
   "execution_count": null,
   "metadata": {},
   "outputs": [],
   "source": [
    "with open('test.txt','w') as f:\n",
    "    f.write(alignment[0].seqA)\n",
    "    f.write('\\n')\n",
    "    f.write(alignment[0].seqB)"
   ]
  }
 ],
 "metadata": {
  "kernelspec": {
   "display_name": "Python 3.8",
   "language": "python",
   "name": "python-3.8"
  },
  "language_info": {
   "codemirror_mode": {
    "name": "ipython",
    "version": 3
   },
   "file_extension": ".py",
   "mimetype": "text/x-python",
   "name": "python",
   "nbconvert_exporter": "python",
   "pygments_lexer": "ipython3",
   "version": "3.8.8"
  }
 },
 "nbformat": 4,
 "nbformat_minor": 4
}
