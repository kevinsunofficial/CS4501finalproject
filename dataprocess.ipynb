{
 "cells": [
  {
   "cell_type": "code",
   "execution_count": 1,
   "metadata": {},
   "outputs": [],
   "source": [
    "import os\n",
    "import os.path as osp\n",
    "import numpy as np\n",
    "import pandas as pd\n",
    "from tqdm import tqdm\n",
    "import json\n",
    "\n",
    "import Bio\n",
    "from Bio import SeqIO\n",
    "from Bio import pairwise2\n",
    "from Bio.Seq import Seq\n",
    "from Bio.SeqRecord import SeqRecord"
   ]
  },
  {
   "cell_type": "code",
   "execution_count": 2,
   "metadata": {},
   "outputs": [],
   "source": [
    "def load_lib(jsonlf):\n",
    "    data = {\n",
    "        'accession': [],\n",
    "        'length': [],\n",
    "        'location': [],\n",
    "        'releaseDate': [],\n",
    "    }\n",
    "    for line in tqdm(jsonlf, position=0, leave=True, desc='reading lib file'):\n",
    "        info = json.loads(line)\n",
    "        if info['completeness']=='COMPLETE' and info['length']>27000:\n",
    "            try:\n",
    "                data['location'].append(info['location']['geographicLocation'])\n",
    "            except:\n",
    "                data['location'].append('Unknown')\n",
    "            data['accession'].append(info['accession'])\n",
    "            data['length'].append(info['length'])\n",
    "            data['releaseDate'].append(info['releaseDate'])\n",
    "    libdf = pd.DataFrame(data=data)\n",
    "    libdf = libdf.sort_values(by=['releaseDate']).dropna()\n",
    "    libdf = libdf.sort_values(by=['length'],ascending=False).dropna()\n",
    "    \n",
    "    return libdf\n",
    "\n",
    "\n",
    "def load_seq(fastapath, mode):\n",
    "    sequences = {}\n",
    "    for seq_record in tqdm(SeqIO.parse(fastapath,mode), position=0, leave=True, desc='reading fasta file'):\n",
    "        sequences[seq_record.id] = seq_record.seq.replace('N','')\n",
    "    \n",
    "    return sequences"
   ]
  },
  {
   "cell_type": "code",
   "execution_count": 3,
   "metadata": {},
   "outputs": [],
   "source": [
    "genomic_path = './../ncbi_dataset/data/genomic.fna'\n",
    "report_path = './../ncbi_dataset/data/data_report.jsonl'"
   ]
  },
  {
   "cell_type": "code",
   "execution_count": 4,
   "metadata": {},
   "outputs": [
    {
     "name": "stderr",
     "output_type": "stream",
     "text": [
      "reading lib file: 100%|██████████| 4542920/4542920 [08:16<00:00, 9147.72it/s] \n"
     ]
    },
    {
     "name": "stdout",
     "output_type": "stream",
     "text": [
      "CPU times: user 8min 37s, sys: 1min 7s, total: 9min 45s\n",
      "Wall time: 14min 35s\n"
     ]
    }
   ],
   "source": [
    "%%time\n",
    "jsonlf = open(report_path,'r').readlines()\n",
    "lib = load_lib(jsonlf)"
   ]
  },
  {
   "cell_type": "code",
   "execution_count": 6,
   "metadata": {},
   "outputs": [
    {
     "name": "stderr",
     "output_type": "stream",
     "text": [
      "reading fasta file: 4542920it [22:43, 3330.63it/s]"
     ]
    },
    {
     "name": "stdout",
     "output_type": "stream",
     "text": [
      "CPU times: user 10min 38s, sys: 3min 7s, total: 13min 46s\n",
      "Wall time: 22min 47s\n"
     ]
    },
    {
     "name": "stderr",
     "output_type": "stream",
     "text": [
      "\n"
     ]
    }
   ],
   "source": [
    "%%time\n",
    "sequences = load_seq(genomic_path, 'fasta')"
   ]
  },
  {
   "cell_type": "code",
   "execution_count": 7,
   "metadata": {},
   "outputs": [
    {
     "name": "stdout",
     "output_type": "stream",
     "text": [
      "(1001653, 4)\n",
      "30119\n",
      "MT844089.1\n",
      "True\n"
     ]
    }
   ],
   "source": [
    "print(lib.shape)\n",
    "\n",
    "acclist = lib.accession.tolist()\n",
    "maxlen = lib.length.max()\n",
    "print(maxlen)\n",
    "\n",
    "maxlen_id = lib[lib.length==maxlen].accession.item()\n",
    "maxlen_seq = str(sequences[maxlen_id])\n",
    "print(maxlen_id)\n",
    "\n",
    "print(maxlen_id in acclist)"
   ]
  },
  {
   "cell_type": "code",
   "execution_count": 8,
   "metadata": {},
   "outputs": [],
   "source": [
    "def write_lib_processed(proclib_path, lib):\n",
    "    lib.to_csv(proclib_path, index=False)\n",
    "    \n",
    "\n",
    "def align_seq(acclist, maxlen_id, maxlen_seq, sequences):\n",
    "    processed_seqs = [\n",
    "        SeqRecord(Seq(maxlen_seq), id=maxlen_id)\n",
    "    ]\n",
    "    alignlist = acclist\n",
    "    alignlist.remove(maxlen_id)\n",
    "    for accid in tqdm(alignlist, position=0, leave=True, desc='align seqs'):\n",
    "        seq2 = sequences[accid]\n",
    "        alignments = pairwise2.align.globalms(maxlen_seq, seq2, 2,-1,-10,-0.5, one_alignment_only=True)\n",
    "        seqB = alignments[0].seqB\n",
    "        processed_seqs.append(SeqRecord(Seq(seqB), id=accid))\n",
    "    \n",
    "    return processed_seqs\n",
    "    \n",
    "def write_seq_processed(procseq_path, processed_seqs):\n",
    "    SeqIO.write(processed_seqs, procseq_path, 'fasta')"
   ]
  },
  {
   "cell_type": "code",
   "execution_count": 9,
   "metadata": {},
   "outputs": [],
   "source": [
    "procseq_path = './processed_dataset/processed_seq.fasta'\n",
    "proclib_path = './processed_dataset/processed_lib.csv'"
   ]
  },
  {
   "cell_type": "code",
   "execution_count": 10,
   "metadata": {},
   "outputs": [
    {
     "name": "stdout",
     "output_type": "stream",
     "text": [
      "CPU times: user 1.98 s, sys: 73.5 ms, total: 2.06 s\n",
      "Wall time: 2.11 s\n"
     ]
    }
   ],
   "source": [
    "%%time\n",
    "write_lib_processed(proclib_path, lib)"
   ]
  },
  {
   "cell_type": "code",
   "execution_count": null,
   "metadata": {},
   "outputs": [
    {
     "name": "stderr",
     "output_type": "stream",
     "text": [
      "align seqs:   0%|          | 23/1001652 [37:42<27007:16:09, 97.07s/it] "
     ]
    }
   ],
   "source": [
    "%%time\n",
    "processed_seqs = align_seq(acclist, maxlen_id, maxlen_seq, sequences)"
   ]
  },
  {
   "cell_type": "code",
   "execution_count": 22,
   "metadata": {},
   "outputs": [
    {
     "name": "stderr",
     "output_type": "stream",
     "text": [
      "writing seqs to file: 100%|██████████| 1001653/1001653 [00:45<00:00, 22037.11it/s]"
     ]
    },
    {
     "name": "stdout",
     "output_type": "stream",
     "text": [
      "CPU times: user 12.8 s, sys: 31.2 s, total: 44.1 s\n",
      "Wall time: 45.5 s\n"
     ]
    },
    {
     "name": "stderr",
     "output_type": "stream",
     "text": [
      "\n"
     ]
    }
   ],
   "source": [
    "%%time\n",
    "write_seq_processed(procseq_path, acclist, sequences)"
   ]
  }
 ],
 "metadata": {
  "kernelspec": {
   "display_name": "Python 3.8",
   "language": "python",
   "name": "python-3.8"
  },
  "language_info": {
   "codemirror_mode": {
    "name": "ipython",
    "version": 3
   },
   "file_extension": ".py",
   "mimetype": "text/x-python",
   "name": "python",
   "nbconvert_exporter": "python",
   "pygments_lexer": "ipython3",
   "version": "3.8.8"
  }
 },
 "nbformat": 4,
 "nbformat_minor": 4
}
