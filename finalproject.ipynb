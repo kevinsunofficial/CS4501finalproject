{
 "cells": [
  {
   "cell_type": "code",
   "execution_count": 72,
   "metadata": {},
   "outputs": [],
   "source": [
    "import os\n",
    "import os.path as osp\n",
    "import numpy as np\n",
    "import pandas as pd\n",
    "from tqdm import tqdm\n",
    "from datetime import datetime\n",
    "import json\n",
    "from itertools import chain\n",
    "import copy\n",
    "\n",
    "import Bio\n",
    "from Bio import SeqIO\n",
    "from Bio import AlignIO\n",
    "from Bio import pairwise2\n",
    "from Bio.pairwise2 import format_alignment\n",
    "from Bio.Align import substitution_matrices\n",
    "\n",
    "import matplotlib.pyplot as plt"
   ]
  },
  {
   "cell_type": "code",
   "execution_count": 53,
   "metadata": {},
   "outputs": [],
   "source": [
    "def load_lib(jsonlf):\n",
    "    data = {\n",
    "        'accession': [],\n",
    "        'length': [],\n",
    "        'location': [],\n",
    "        'releaseDate': [],\n",
    "    }\n",
    "    for line in tqdm(jsonlf, position=0, leave=True, desc='reading lib file'):\n",
    "        info = json.loads(line)\n",
    "        if info['completeness']=='COMPLETE' and info['length']>27000:\n",
    "            try:\n",
    "                data['location'].append(info['location']['geographicLocation'])\n",
    "            except:\n",
    "                data['location'].append('Unknown')\n",
    "            data['accession'].append(info['accession'])\n",
    "            data['length'].append(info['length'])\n",
    "            data['releaseDate'].append(info['releaseDate'])\n",
    "    libdf = pd.DataFrame(data=data)\n",
    "    libdf = libdf.sort_values(by=['releaseDate']).dropna()\n",
    "    \n",
    "    return libdf\n",
    "\n",
    "\n",
    "def load_seq(fastapath, mode):\n",
    "    sequences = {}\n",
    "    for seq_record in tqdm(SeqIO.parse(fastapath,mode), position=0, leave=True, desc='reading fasta file'):\n",
    "        sequences[seq_record.id] = seq_record.seq.replace('N','')\n",
    "    \n",
    "    return sequences"
   ]
  },
  {
   "cell_type": "code",
   "execution_count": 3,
   "metadata": {},
   "outputs": [],
   "source": [
    "all_genomic_path = './../ncbi_dataset/data/genomic.fna'\n",
    "complete_genomic_path = './../ncbi_dataset/data/complete_genome.fasta'\n",
    "protein_path = './../ncbi_dataset/data/protein.faa'\n",
    "libpath = './../ncbi_dataset/data/data_report.jsonl'"
   ]
  },
  {
   "cell_type": "code",
   "execution_count": 32,
   "metadata": {},
   "outputs": [
    {
     "name": "stderr",
     "output_type": "stream",
     "text": [
      "reading lib file: 100%|██████████| 4542920/4542920 [10:15<00:00, 7379.33it/s]\n"
     ]
    },
    {
     "name": "stdout",
     "output_type": "stream",
     "text": [
      "CPU times: user 10min 27s, sys: 1min 41s, total: 12min 9s\n",
      "Wall time: 15min 35s\n"
     ]
    }
   ],
   "source": [
    "%%time\n",
    "jsonlf = open(libpath,'r').readlines()\n",
    "lib = load_lib(jsonlf)"
   ]
  },
  {
   "cell_type": "code",
   "execution_count": 54,
   "metadata": {},
   "outputs": [
    {
     "name": "stderr",
     "output_type": "stream",
     "text": [
      "reading fasta file: 1001653it [03:19, 5014.38it/s] \n"
     ]
    },
    {
     "name": "stdout",
     "output_type": "stream",
     "text": [
      "CPU times: user 1min 33s, sys: 26.9 s, total: 2min\n",
      "Wall time: 3min 20s\n"
     ]
    }
   ],
   "source": [
    "%%time\n",
    "sequences = load_seq(complete_genomic_path, 'fasta')"
   ]
  },
  {
   "cell_type": "code",
   "execution_count": 55,
   "metadata": {},
   "outputs": [],
   "source": [
    "acclist = lib.accession.tolist()\n",
    "maxlen = lib.length.max()\n",
    "minlen = lib.length.min()"
   ]
  },
  {
   "cell_type": "code",
   "execution_count": 56,
   "metadata": {},
   "outputs": [
    {
     "name": "stdout",
     "output_type": "stream",
     "text": [
      "1001653\n",
      "27366 30119\n"
     ]
    }
   ],
   "source": [
    "print(len(acclist))\n",
    "print(minlen, maxlen)"
   ]
  },
  {
   "cell_type": "code",
   "execution_count": 57,
   "metadata": {},
   "outputs": [],
   "source": [
    "liblen = lib.sort_values(by=['length'],ascending=False).dropna()"
   ]
  },
  {
   "cell_type": "code",
   "execution_count": 58,
   "metadata": {},
   "outputs": [
    {
     "name": "stdout",
     "output_type": "stream",
     "text": [
      "         accession  length                         location releaseDate\n",
      "70312   MT844089.1   30119                          Unknown  2020-09-07\n",
      "879886  MT079851.1   30018                            China  2020-05-15\n",
      "385503  MT079845.1   29955                            China  2020-05-15\n",
      "17088   MT121215.1   29945                  China: Shanghai  2020-03-09\n",
      "614766  MZ472103.1   29940  USA: Kentucky, Jefferson County  2021-08-13\n"
     ]
    }
   ],
   "source": [
    "print(liblen.head())"
   ]
  },
  {
   "cell_type": "code",
   "execution_count": 39,
   "metadata": {},
   "outputs": [],
   "source": [
    "seq_stat = np.zeros((6,maxlen)) # A T C G N -\n",
    "maxlen_seq = str(sequences[lib[lib.length==maxlen].accession.item()])\n",
    "for j in range(len(maxlen_seq)):\n",
    "    if maxlen_seq[j] == 'A': seq_stat[0,j] += 1\n",
    "    elif maxlen_seq[j] == 'T': seq_stat[1,j] += 1\n",
    "    elif maxlen_seq[j] == 'C': seq_stat[2,j] += 1\n",
    "    elif maxlen_seq[j] == 'G': seq_stat[3,j] += 1\n",
    "    elif maxlen_seq[j] == 'N': seq_stat[4,j] += 1\n",
    "    elif maxlen_seq[j] == '-': seq_stat[5,j] += 1"
   ]
  },
  {
   "cell_type": "code",
   "execution_count": null,
   "metadata": {},
   "outputs": [],
   "source": [
    "for i in range(1,len(acclist)):\n",
    "    seq2 = sequences[acclist[i]]\n",
    "    alignment = pairwise2.align.globalxx(seq1, seq2, penalize_end_gaps=False)"
   ]
  },
  {
   "cell_type": "code",
   "execution_count": null,
   "metadata": {},
   "outputs": [
    {
     "name": "stdin",
     "output_type": "stream",
     "text": [
      "[[2. 0. 0. ... 1. 1. 1.]\n",
      " [0. 2. 2. ... 0. 0. 0.]\n",
      " [0. 0. 0. ... 0. 0. 0.]\n",
      " [0. 0. 0. ... 0. 0. 0.]\n",
      " [0. 0. 0. ... 0. 0. 0.]] \n",
      "[[3. 0. 0. ... 1. 1. 1.]\n",
      " [0. 3. 3. ... 0. 0. 0.]\n",
      " [0. 0. 0. ... 0. 0. 0.]\n",
      " [0. 0. 0. ... 0. 0. 0.]\n",
      " [0. 0. 0. ... 0. 0. 0.]] \n"
     ]
    }
   ],
   "source": [
    "for i in range(len(acclist)-1):\n",
    "    seq1, seq2 = sequences[acclist[i]], sequences[acclist[i+1]]\n",
    "    alignment = pairwise2.align.globalxx(seq1, seq2, penalize_end_gaps=False, one_alignment_only=True)\n",
    "    seqB = str(alignment[0].seqB)\n",
    "    for k in range(len(seqB)):\n",
    "        if seqB[k] == 'A': seq_stat[0,k] += 1\n",
    "        elif seqB[k] == 'T': seq_stat[1,k] += 1\n",
    "        elif seqB[k] == 'C': seq_stat[2,k] += 1\n",
    "        elif seqB[k] == 'G': seq_stat[3,k] += 1\n",
    "        elif seqB[k] == 'N': seq_stat[4,k] += 1\n",
    "        elif seqB[k] == '-': seq_stat[5,k] += 1"
   ]
  },
  {
   "cell_type": "code",
   "execution_count": 59,
   "metadata": {},
   "outputs": [],
   "source": [
    "minlen_seq = str(sequences[lib[lib.length==minlen].accession.item()])"
   ]
  },
  {
   "cell_type": "code",
   "execution_count": 76,
   "metadata": {},
   "outputs": [
    {
     "name": "stdout",
     "output_type": "stream",
     "text": [
      "CPU times: user 1min 20s, sys: 26.4 s, total: 1min 47s\n",
      "Wall time: 1min 47s\n"
     ]
    }
   ],
   "source": [
    "%%time\n",
    "alignments = pairwise2.align.globalxx(maxlen_seq, minlen_seq)"
   ]
  },
  {
   "cell_type": "code",
   "execution_count": 77,
   "metadata": {},
   "outputs": [
    {
     "name": "stdout",
     "output_type": "stream",
     "text": [
      "19\n"
     ]
    }
   ],
   "source": [
    "print(len(alignments))"
   ]
  },
  {
   "cell_type": "code",
   "execution_count": 82,
   "metadata": {},
   "outputs": [
    {
     "name": "stdout",
     "output_type": "stream",
     "text": [
      "30180\n",
      "30180\n",
      "\n",
      "30180\n",
      "30180\n",
      "\n",
      "30180\n",
      "30180\n",
      "\n",
      "30180\n",
      "30180\n",
      "\n",
      "30180\n",
      "30180\n",
      "\n",
      "30180\n",
      "30180\n",
      "\n",
      "30180\n",
      "30180\n",
      "\n",
      "30180\n",
      "30180\n",
      "\n",
      "30180\n",
      "30180\n",
      "\n",
      "30180\n",
      "30180\n",
      "\n",
      "30180\n",
      "30180\n",
      "\n",
      "30180\n",
      "30180\n",
      "\n",
      "30180\n",
      "30180\n",
      "\n",
      "30180\n",
      "30180\n",
      "\n",
      "30180\n",
      "30180\n",
      "\n",
      "30180\n",
      "30180\n",
      "\n",
      "30180\n",
      "30180\n",
      "\n",
      "30180\n",
      "30180\n",
      "\n",
      "30180\n",
      "30180\n",
      "\n"
     ]
    }
   ],
   "source": [
    "for a in alignments:\n",
    "    print(len(a.seqA))\n",
    "    print(len(a.seqB))\n",
    "    print()"
   ]
  },
  {
   "cell_type": "code",
   "execution_count": 33,
   "metadata": {},
   "outputs": [
    {
     "name": "stderr",
     "output_type": "stream",
     "text": [
      "writing new fasta file: 100%|██████████| 1001653/1001653 [01:09<00:00, 14407.87it/s]\n"
     ]
    }
   ],
   "source": [
    "acclist = lib['accession'].tolist()\n",
    "outfasta = './../ncbi_dataset/data/complete_genome.fasta'\n",
    "with open(outfasta,'w') as f:\n",
    "    for acc in tqdm(acclist, position=0, leave=True, desc='writing new fasta file'):\n",
    "        content = '>'+acc+'\\n'+str(sequences[acc])+'\\n'\n",
    "        f.write(content)"
   ]
  }
 ],
 "metadata": {
  "kernelspec": {
   "display_name": "Python 3.8",
   "language": "python",
   "name": "python-3.8"
  },
  "language_info": {
   "codemirror_mode": {
    "name": "ipython",
    "version": 3
   },
   "file_extension": ".py",
   "mimetype": "text/x-python",
   "name": "python",
   "nbconvert_exporter": "python",
   "pygments_lexer": "ipython3",
   "version": "3.8.8"
  }
 },
 "nbformat": 4,
 "nbformat_minor": 5
}
