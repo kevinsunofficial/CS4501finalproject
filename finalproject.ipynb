{
 "cells": [
  {
   "cell_type": "code",
   "execution_count": 15,
   "id": "118e3de8",
   "metadata": {},
   "outputs": [],
   "source": [
    "import os\n",
    "import os.path as osp\n",
    "import numpy as np\n",
    "import pandas as pd\n",
    "from tqdm import tqdm\n",
    "from datetime import datetime\n",
    "\n",
    "import Bio\n",
    "from Bio import SeqIO\n",
    "from Bio import pairwise2\n",
    "from Bio.Align import substitution_matrices"
   ]
  },
  {
   "cell_type": "code",
   "execution_count": 2,
   "id": "f6de2d45",
   "metadata": {},
   "outputs": [],
   "source": [
    "def read_fasta(filepath, mode):\n",
    "    sequences = {}\n",
    "    for seq_record in tqdm(SeqIO.parse(filepath, mode),position=0,leave=True,desc='reading fasta file'):\n",
    "        sequences[seq_record.id] = seq_record.seq\n",
    "    return sequences\n",
    "\n",
    "def read_lib(filepath):\n",
    "    libdf = pd.read_csv(filepath, low_memory=False)\n",
    "    libdf = libdf[['Nucleotide Accession','Nucleotide Length','Geo Location','Collection Date']]\n",
    "    libdf['Collection Date'] = pd.to_datetime(libdf['Collection Date'], errors='coerce').dt.strftime(\"%Y/%m/%d\")\n",
    "    libdf = libdf.sort_values(by=['Collection Date']).dropna()\n",
    "    return libdf"
   ]
  },
  {
   "cell_type": "code",
   "execution_count": 3,
   "id": "91cc16d2",
   "metadata": {},
   "outputs": [
    {
     "name": "stderr",
     "output_type": "stream",
     "text": [
      "reading fasta file: 943070it [08:59, 1749.10it/s]"
     ]
    },
    {
     "name": "stdout",
     "output_type": "stream",
     "text": [
      "Wall time: 8min 59s\n"
     ]
    },
    {
     "name": "stderr",
     "output_type": "stream",
     "text": [
      "\n"
     ]
    }
   ],
   "source": [
    "%%time\n",
    "fastapath = './../datasets/ncbi_dataset/data/genomic.fna'\n",
    "sequences = read_fasta(fastapath,'fasta')"
   ]
  },
  {
   "cell_type": "code",
   "execution_count": 4,
   "id": "7bae4fe5",
   "metadata": {},
   "outputs": [
    {
     "name": "stdout",
     "output_type": "stream",
     "text": [
      "Wall time: 15.1 s\n"
     ]
    }
   ],
   "source": [
    "%%time\n",
    "libpath = './../datasets/ncbi_datasets.csv'\n",
    "lib = read_lib(libpath)"
   ]
  },
  {
   "cell_type": "code",
   "execution_count": 5,
   "id": "87b40f8b",
   "metadata": {},
   "outputs": [
    {
     "name": "stdout",
     "output_type": "stream",
     "text": [
      "943070\n"
     ]
    }
   ],
   "source": [
    "print(len(sequences))"
   ]
  },
  {
   "cell_type": "code",
   "execution_count": 6,
   "id": "e2a251ad",
   "metadata": {},
   "outputs": [
    {
     "name": "stdout",
     "output_type": "stream",
     "text": [
      "       Nucleotide Accession  Nucleotide Length               Geo Location  \\\n",
      "0               NC_045512.2              29903                Asia; China   \n",
      "255871           MT019529.1              29899  Asia; China: Hubei, Wuhan   \n",
      "255878           MN996527.1              29825         Asia; China: Wuhan   \n",
      "255877           MN996528.1              29891         Asia; China: Wuhan   \n",
      "255876           MN996529.1              29852         Asia; China: Wuhan   \n",
      "\n",
      "       Collection Date  \n",
      "0           2019/12/01  \n",
      "255871      2019/12/23  \n",
      "255878      2019/12/30  \n",
      "255877      2019/12/30  \n",
      "255876      2019/12/30  \n"
     ]
    }
   ],
   "source": [
    "print(lib.head())"
   ]
  },
  {
   "cell_type": "code",
   "execution_count": null,
   "id": "80d6f714",
   "metadata": {},
   "outputs": [],
   "source": [
    "%%time\n",
    "blosum62 = substitution_matrices.load(\"BLOSUM62\")\n",
    "alignment = pairwise2.align.globalds(sequences['NC_045512.2'],sequences['MT019529.1'],blosum62,-10,-0.5)"
   ]
  },
  {
   "cell_type": "code",
   "execution_count": null,
   "id": "d17dfdfa",
   "metadata": {},
   "outputs": [],
   "source": [
    "print(pairwise2.format_alignment(*alignment[0]))"
   ]
  }
 ],
 "metadata": {
  "kernelspec": {
   "display_name": "Python 3 (ipykernel)",
   "language": "python",
   "name": "python3"
  },
  "language_info": {
   "codemirror_mode": {
    "name": "ipython",
    "version": 3
   },
   "file_extension": ".py",
   "mimetype": "text/x-python",
   "name": "python",
   "nbconvert_exporter": "python",
   "pygments_lexer": "ipython3",
   "version": "3.8.8"
  }
 },
 "nbformat": 4,
 "nbformat_minor": 5
}
