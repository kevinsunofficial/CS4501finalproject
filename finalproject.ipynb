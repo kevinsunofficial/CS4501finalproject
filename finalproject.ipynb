{
 "cells": [
  {
   "cell_type": "code",
   "execution_count": 35,
   "id": "a389ee3d",
   "metadata": {},
   "outputs": [],
   "source": [
    "import os\n",
    "import pandas as pd\n",
    "import numpy as np\n",
    "\n",
    "from Bio import SeqIO\n",
    "from Bio import pairwise2\n",
    "from Bio.pairwise2 import format_alignment\n",
    "from tqdm import tqdm\n",
    "\n",
    "import matplotlib.pyplot as plt\n",
    "from matplotlib import animation\n",
    "from matplotlib.animation import FuncAnimation\n",
    "import seaborn as sns\n",
    "%matplotlib notebook\n",
    "\n",
    "import warnings\n",
    "warnings.filterwarnings('ignore')"
   ]
  },
  {
   "cell_type": "code",
   "execution_count": 2,
   "id": "983ed9ee",
   "metadata": {},
   "outputs": [],
   "source": [
    "genomic = './sars_cov2_spike_aligned/sars_cov2_spike_aligned.fasta'\n",
    "report = './sars_cov2_spike.csv'"
   ]
  },
  {
   "cell_type": "code",
   "execution_count": 3,
   "id": "260906a8",
   "metadata": {},
   "outputs": [
    {
     "name": "stderr",
     "output_type": "stream",
     "text": [
      "110625it [05:19, 346.01it/s]"
     ]
    },
    {
     "name": "stdout",
     "output_type": "stream",
     "text": [
      "Wall time: 5min 19s\n"
     ]
    },
    {
     "name": "stderr",
     "output_type": "stream",
     "text": [
      "\n"
     ]
    },
    {
     "data": {
      "text/plain": [
       "109288"
      ]
     },
     "execution_count": 3,
     "metadata": {},
     "output_type": "execute_result"
    }
   ],
   "source": [
    "%%time\n",
    "sequences = {}\n",
    "for seq_record in tqdm(SeqIO.parse(genomic, 'fasta')):\n",
    "    if len(seq_record.seq) == 3822 and (set(seq_record.seq)<=set(['A','T','C','G','-','N','n'])):\n",
    "        sequences[seq_record.id] = seq_record.seq\n",
    "len(sequences)"
   ]
  },
  {
   "cell_type": "code",
   "execution_count": 4,
   "id": "a50329e4",
   "metadata": {},
   "outputs": [
    {
     "name": "stdout",
     "output_type": "stream",
     "text": [
      "Wall time: 990 ms\n"
     ]
    },
    {
     "data": {
      "text/html": [
       "<div>\n",
       "<style scoped>\n",
       "    .dataframe tbody tr th:only-of-type {\n",
       "        vertical-align: middle;\n",
       "    }\n",
       "\n",
       "    .dataframe tbody tr th {\n",
       "        vertical-align: top;\n",
       "    }\n",
       "\n",
       "    .dataframe thead th {\n",
       "        text-align: right;\n",
       "    }\n",
       "</style>\n",
       "<table border=\"1\" class=\"dataframe\">\n",
       "  <thead>\n",
       "    <tr style=\"text-align: right;\">\n",
       "      <th></th>\n",
       "      <th>Accession</th>\n",
       "      <th>ReleaseDate</th>\n",
       "      <th>PangoClass</th>\n",
       "      <th>Location</th>\n",
       "      <th>Length</th>\n",
       "      <th>Gene</th>\n",
       "      <th>Protein</th>\n",
       "      <th>Begin</th>\n",
       "      <th>End</th>\n",
       "      <th>CDS_Length</th>\n",
       "    </tr>\n",
       "  </thead>\n",
       "  <tbody>\n",
       "    <tr>\n",
       "      <th>1</th>\n",
       "      <td>MW422255.1</td>\n",
       "      <td>2020-12-30</td>\n",
       "      <td>alpha</td>\n",
       "      <td>USA: San Diego, California</td>\n",
       "      <td>29763</td>\n",
       "      <td>S</td>\n",
       "      <td>surface glycoprotein</td>\n",
       "      <td>21500</td>\n",
       "      <td>25312</td>\n",
       "      <td>3813</td>\n",
       "    </tr>\n",
       "    <tr>\n",
       "      <th>2</th>\n",
       "      <td>MW422256.1</td>\n",
       "      <td>2020-12-30</td>\n",
       "      <td>alpha</td>\n",
       "      <td>USA</td>\n",
       "      <td>29817</td>\n",
       "      <td>S</td>\n",
       "      <td>surface glycoprotein</td>\n",
       "      <td>21524</td>\n",
       "      <td>25336</td>\n",
       "      <td>3813</td>\n",
       "    </tr>\n",
       "    <tr>\n",
       "      <th>3</th>\n",
       "      <td>MW430966.1</td>\n",
       "      <td>2021-01-04</td>\n",
       "      <td>alpha</td>\n",
       "      <td>USA: California</td>\n",
       "      <td>29835</td>\n",
       "      <td>S</td>\n",
       "      <td>surface glycoprotein</td>\n",
       "      <td>21523</td>\n",
       "      <td>25335</td>\n",
       "      <td>3813</td>\n",
       "    </tr>\n",
       "    <tr>\n",
       "      <th>4</th>\n",
       "      <td>MW430974.1</td>\n",
       "      <td>2021-01-04</td>\n",
       "      <td>alpha</td>\n",
       "      <td>USA: Florida</td>\n",
       "      <td>29861</td>\n",
       "      <td>S</td>\n",
       "      <td>surface glycoprotein</td>\n",
       "      <td>21551</td>\n",
       "      <td>25363</td>\n",
       "      <td>3813</td>\n",
       "    </tr>\n",
       "    <tr>\n",
       "      <th>5</th>\n",
       "      <td>MW440433.1</td>\n",
       "      <td>2021-01-05</td>\n",
       "      <td>alpha</td>\n",
       "      <td>USA: New York, Saratoga County</td>\n",
       "      <td>29792</td>\n",
       "      <td>S</td>\n",
       "      <td>surface glycoprotein</td>\n",
       "      <td>21514</td>\n",
       "      <td>25326</td>\n",
       "      <td>3813</td>\n",
       "    </tr>\n",
       "  </tbody>\n",
       "</table>\n",
       "</div>"
      ],
      "text/plain": [
       "    Accession ReleaseDate PangoClass                        Location  Length  \\\n",
       "1  MW422255.1  2020-12-30      alpha      USA: San Diego, California   29763   \n",
       "2  MW422256.1  2020-12-30      alpha                             USA   29817   \n",
       "3  MW430966.1  2021-01-04      alpha                 USA: California   29835   \n",
       "4  MW430974.1  2021-01-04      alpha                    USA: Florida   29861   \n",
       "5  MW440433.1  2021-01-05      alpha  USA: New York, Saratoga County   29792   \n",
       "\n",
       "  Gene               Protein  Begin    End  CDS_Length  \n",
       "1    S  surface glycoprotein  21500  25312        3813  \n",
       "2    S  surface glycoprotein  21524  25336        3813  \n",
       "3    S  surface glycoprotein  21523  25335        3813  \n",
       "4    S  surface glycoprotein  21551  25363        3813  \n",
       "5    S  surface glycoprotein  21514  25326        3813  "
      ]
     },
     "execution_count": 4,
     "metadata": {},
     "output_type": "execute_result"
    }
   ],
   "source": [
    "%%time\n",
    "df = pd.read_csv(report)\n",
    "df = df[df.Accession.isin(sequences.keys())]\n",
    "df = df.sort_values(by='Accession')\n",
    "df.head()"
   ]
  },
  {
   "cell_type": "code",
   "execution_count": 5,
   "id": "16a1c5d2",
   "metadata": {},
   "outputs": [
    {
     "data": {
      "text/plain": [
       "109288"
      ]
     },
     "execution_count": 5,
     "metadata": {},
     "output_type": "execute_result"
    }
   ],
   "source": [
    "accession_list = df.Accession.tolist()\n",
    "len_acc = len(accession_list)\n",
    "len_acc"
   ]
  },
  {
   "cell_type": "code",
   "execution_count": 40,
   "id": "912afb43",
   "metadata": {},
   "outputs": [],
   "source": [
    "alpha_data = pd.concat([df[df.PangoClass=='B'],df[df.PangoClass=='alpha']])\n",
    "beta_data = pd.concat([df[df.PangoClass=='B'],df[df.PangoClass=='Beta']])\n",
    "gamma_data = pd.concat([df[df.PangoClass=='B'],df[df.PangoClass=='Gamma']])\n",
    "delta_data = pd.concat([df[df.PangoClass=='B'],df[df.PangoClass=='Delta']])\n",
    "lambda_data = pd.concat([df[df.PangoClass=='B'],df[df.PangoClass=='Lambda']])\n",
    "omicron_data = pd.concat([df[df.PangoClass=='B'],df[df.PangoClass=='Omicron']])"
   ]
  },
  {
   "cell_type": "code",
   "execution_count": 67,
   "id": "b880e63d",
   "metadata": {},
   "outputs": [
    {
     "data": {
      "text/plain": [
       "(1, 10)"
      ]
     },
     "execution_count": 67,
     "metadata": {},
     "output_type": "execute_result"
    }
   ],
   "source": [
    "omicron_data.shape"
   ]
  },
  {
   "cell_type": "code",
   "execution_count": 17,
   "id": "09776d36",
   "metadata": {},
   "outputs": [
    {
     "name": "stderr",
     "output_type": "stream",
     "text": [
      "100%|███████████████████████████████████████████████████████████████████████████████████████████████████████| 109288/109288 [16:45<00:00, 108.73it/s]\n"
     ]
    }
   ],
   "source": [
    "sequences_int = {}\n",
    "for acc in tqdm(accession_list):\n",
    "    seq = sequences[acc]\n",
    "    seq_int = \"\"\n",
    "    for b in seq:\n",
    "        if b=='A': seq_int += '0'\n",
    "        elif b=='T': seq_int += '1'\n",
    "        elif b=='C': seq_int += '2'\n",
    "        elif b=='G': seq_int += '3'\n",
    "        else: seq_int += '4'\n",
    "    sequences_int[acc] = seq_int"
   ]
  },
  {
   "cell_type": "code",
   "execution_count": 18,
   "id": "ea0fc2e6",
   "metadata": {},
   "outputs": [
    {
     "name": "stdout",
     "output_type": "stream",
     "text": [
      "1311131111121131111011322\n"
     ]
    }
   ],
   "source": [
    "print(sequences_int['MW422255.1'][:25])"
   ]
  },
  {
   "cell_type": "code",
   "execution_count": 68,
   "id": "503f3bc5",
   "metadata": {},
   "outputs": [
    {
     "name": "stderr",
     "output_type": "stream",
     "text": [
      "100%|██████████████████████████████████████████████████████████████████████████████████████████████████████████| 99328/99328 [32:02<00:00, 51.68it/s]\n"
     ]
    }
   ],
   "source": [
    "mut_stat = np.zeros((5,3822))\n",
    "for acc in tqdm(alpha_data.Accession.tolist()):\n",
    "    seq_int = sequences_int[acc]\n",
    "    for j in range(3822):\n",
    "        mut_stat[int(seq_int[j]),j] += 1"
   ]
  },
  {
   "cell_type": "code",
   "execution_count": 69,
   "id": "ab69ed0c",
   "metadata": {},
   "outputs": [
    {
     "data": {
      "text/plain": [
       "array([[0.0000e+00, 0.0000e+00, 0.0000e+00, ..., 9.9328e+04, 9.9328e+04,\n",
       "        9.9324e+04],\n",
       "       [9.9328e+04, 0.0000e+00, 9.9327e+04, ..., 0.0000e+00, 0.0000e+00,\n",
       "        0.0000e+00],\n",
       "       [0.0000e+00, 0.0000e+00, 1.0000e+00, ..., 0.0000e+00, 0.0000e+00,\n",
       "        0.0000e+00],\n",
       "       [0.0000e+00, 9.9328e+04, 0.0000e+00, ..., 0.0000e+00, 0.0000e+00,\n",
       "        4.0000e+00],\n",
       "       [0.0000e+00, 0.0000e+00, 0.0000e+00, ..., 0.0000e+00, 0.0000e+00,\n",
       "        0.0000e+00]])"
      ]
     },
     "execution_count": 69,
     "metadata": {},
     "output_type": "execute_result"
    }
   ],
   "source": [
    "mut_stat"
   ]
  },
  {
   "cell_type": "code",
   "execution_count": 70,
   "id": "caa33f0c",
   "metadata": {},
   "outputs": [
    {
     "data": {
      "text/plain": [
       "array([[0.00000000e+00, 0.00000000e+00, 0.00000000e+00, ...,\n",
       "        1.00000000e+00, 1.00000000e+00, 9.99959729e-01],\n",
       "       [1.00000000e+00, 0.00000000e+00, 9.99989932e-01, ...,\n",
       "        0.00000000e+00, 0.00000000e+00, 0.00000000e+00],\n",
       "       [0.00000000e+00, 0.00000000e+00, 1.00676546e-05, ...,\n",
       "        0.00000000e+00, 0.00000000e+00, 0.00000000e+00],\n",
       "       [0.00000000e+00, 1.00000000e+00, 0.00000000e+00, ...,\n",
       "        0.00000000e+00, 0.00000000e+00, 4.02706186e-05],\n",
       "       [0.00000000e+00, 0.00000000e+00, 0.00000000e+00, ...,\n",
       "        0.00000000e+00, 0.00000000e+00, 0.00000000e+00]])"
      ]
     },
     "execution_count": 70,
     "metadata": {},
     "output_type": "execute_result"
    }
   ],
   "source": [
    "mut_prob = mut_stat/np.sum(mut_stat,axis=0)\n",
    "mut_prob"
   ]
  },
  {
   "cell_type": "code",
   "execution_count": 71,
   "id": "331daf0b",
   "metadata": {},
   "outputs": [],
   "source": [
    "np.savetxt(\"./probs/alpha_probs.csv\", mut_prob, delimiter=\",\")"
   ]
  }
 ],
 "metadata": {
  "kernelspec": {
   "display_name": "Python 3 (ipykernel)",
   "language": "python",
   "name": "python3"
  },
  "language_info": {
   "codemirror_mode": {
    "name": "ipython",
    "version": 3
   },
   "file_extension": ".py",
   "mimetype": "text/x-python",
   "name": "python",
   "nbconvert_exporter": "python",
   "pygments_lexer": "ipython3",
   "version": "3.8.8"
  }
 },
 "nbformat": 4,
 "nbformat_minor": 5
}
